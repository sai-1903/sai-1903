{
  "nbformat": 4,
  "nbformat_minor": 0,
  "metadata": {
    "colab": {
      "provenance": [],
      "authorship_tag": "ABX9TyNDbi6CMlZp1YJ6XY0wqv9c",
      "include_colab_link": true
    },
    "kernelspec": {
      "name": "python3",
      "display_name": "Python 3"
    },
    "language_info": {
      "name": "python"
    }
  },
  "cells": [
    {
      "cell_type": "markdown",
      "metadata": {
        "id": "view-in-github",
        "colab_type": "text"
      },
      "source": [
        "<a href=\"https://colab.research.google.com/github/sai-1903/sai-1903/blob/main/Saikiran_santhpale_Lookalike.ipynb\" target=\"_parent\"><img src=\"https://colab.research.google.com/assets/colab-badge.svg\" alt=\"Open In Colab\"/></a>"
      ]
    },
    {
      "cell_type": "code",
      "execution_count": 2,
      "metadata": {
        "id": "44dQcuOsd-JJ"
      },
      "outputs": [],
      "source": [
        "import pandas as pd\n",
        "import numpy as np\n",
        "import matplotlib.pyplot as plt\n",
        "import seaborn as sns\n",
        "\n",
        "# Load the datasets\n",
        "customers = pd.read_csv(\"/Customers.csv\")\n",
        "products = pd.read_csv(\"/Products.csv\")\n",
        "transactions = pd.read_csv(\"/Transactions.csv\")\n"
      ]
    },
    {
      "cell_type": "code",
      "source": [
        "# Aggregate customer-level data\n",
        "customer_data = transactions.groupby('CustomerID').agg({\n",
        "    'TotalValue': 'sum',\n",
        "    'Quantity': 'sum'\n",
        "}).rename(columns={'TotalValue': 'TotalSpend', 'Quantity': 'TotalQuantity'}).reset_index()\n",
        "\n",
        "\n",
        "customer_profile = customers.merge(customer_data, on=\"CustomerID\", how=\"left\").fillna(0)\n",
        "print(customer_profile.head())"
      ],
      "metadata": {
        "colab": {
          "base_uri": "https://localhost:8080/"
        },
        "id": "hgqKXXCDjyPy",
        "outputId": "4df0d1f4-6395-4477-c448-2947a48385cc"
      },
      "execution_count": 5,
      "outputs": [
        {
          "output_type": "stream",
          "name": "stdout",
          "text": [
            "  CustomerID        CustomerName         Region  SignupDate  TotalSpend  \\\n",
            "0      C0001    Lawrence Carroll  South America  2022-07-10     3354.52   \n",
            "1      C0002      Elizabeth Lutz           Asia  2022-02-13     1862.74   \n",
            "2      C0003      Michael Rivera  South America  2024-03-07     2725.38   \n",
            "3      C0004  Kathleen Rodriguez  South America  2022-10-09     5354.88   \n",
            "4      C0005         Laura Weber           Asia  2022-08-15     2034.24   \n",
            "\n",
            "   TotalQuantity  \n",
            "0           12.0  \n",
            "1           10.0  \n",
            "2           14.0  \n",
            "3           23.0  \n",
            "4            7.0  \n"
          ]
        }
      ]
    },
    {
      "cell_type": "code",
      "source": [
        "from sklearn.preprocessing import StandardScaler\n",
        "from sklearn.metrics.pairwise import cosine_similarity\n",
        "\n",
        "\n",
        "features = customer_profile[['TotalSpend', 'TotalQuantity']]\n",
        "scaler = StandardScaler()\n",
        "scaled_features = scaler.fit_transform(features)\n",
        "\n",
        "\n",
        "similarity_matrix = cosine_similarity(scaled_features)\n",
        "\n",
        "\n",
        "lookalikes = {}\n",
        "for idx, customer in enumerate(customer_profile['CustomerID']):\n",
        "    scores = list(enumerate(similarity_matrix[idx]))\n",
        "    scores = sorted(scores, key=lambda x: x[1], reverse=True)[1:4]  # Top 3 lookalikes\n",
        "    lookalikes[customer] = [(customer_profile.iloc[i[0]]['CustomerID'], round(i[1], 2)) for i in scores]\n",
        "\n",
        "# Save to CSV\n",
        "lookalikes_df = pd.DataFrame.from_dict(\n",
        "    {k: [v[0][0], v[0][1], v[1][0], v[1][1], v[2][0], v[2][1]] for k, v in lookalikes.items()},\n",
        "    orient='index',\n",
        "    columns=['Lookalike1', 'Score1', 'Lookalike2', 'Score2', 'Lookalike3', 'Score3']\n",
        ")\n",
        "lookalikes_df.to_csv('Lookalike.csv', index_label='CustomerID')\n",
        "print(lookalikes_df.head())"
      ],
      "metadata": {
        "colab": {
          "base_uri": "https://localhost:8080/"
        },
        "id": "tP2ew0FvkbuA",
        "outputId": "563779dd-2675-4677-9e58-5a104c7fe63e"
      },
      "execution_count": 8,
      "outputs": [
        {
          "output_type": "stream",
          "name": "stdout",
          "text": [
            "      Lookalike1  Score1 Lookalike2  Score2 Lookalike3  Score3\n",
            "C0001      C0164     1.0      C0085    1.00      C0127    1.00\n",
            "C0002      C0157     1.0      C0094    1.00      C0029    1.00\n",
            "C0003      C0111     1.0      C0160    0.99      C0147    0.99\n",
            "C0004      C0162     1.0      C0165    1.00      C0175    1.00\n",
            "C0005      C0080     1.0      C0167    1.00      C0177    1.00\n"
          ]
        }
      ]
    }
  ]
}